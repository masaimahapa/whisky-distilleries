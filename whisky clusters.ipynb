{
 "cells": [
  {
   "cell_type": "markdown",
   "metadata": {},
   "source": [
    "# Clustering Whisky Distillers\n",
    "In this notebook, I try to group whisky distillers according to their taste profile.\n",
    "\n",
    "For this task, the method I will use is called K-Means clustering which is an unsupervised machine learning algorithm well suited for such a task."
   ]
  },
  {
   "cell_type": "code",
   "execution_count": 1,
   "metadata": {},
   "outputs": [],
   "source": [
    "import pandas as pd\n",
    "import seaborn as sns\n",
    "import matplotlib.pyplot as plt\n",
    "import numpy as np"
   ]
  },
  {
   "cell_type": "code",
   "execution_count": 2,
   "metadata": {},
   "outputs": [
    {
     "data": {
      "text/html": [
       "<div>\n",
       "<style scoped>\n",
       "    .dataframe tbody tr th:only-of-type {\n",
       "        vertical-align: middle;\n",
       "    }\n",
       "\n",
       "    .dataframe tbody tr th {\n",
       "        vertical-align: top;\n",
       "    }\n",
       "\n",
       "    .dataframe thead th {\n",
       "        text-align: right;\n",
       "    }\n",
       "</style>\n",
       "<table border=\"1\" class=\"dataframe\">\n",
       "  <thead>\n",
       "    <tr style=\"text-align: right;\">\n",
       "      <th></th>\n",
       "      <th>Distillery</th>\n",
       "      <th>Body</th>\n",
       "      <th>Sweetness</th>\n",
       "      <th>Smoky</th>\n",
       "      <th>Medicinal</th>\n",
       "      <th>Tobacco</th>\n",
       "      <th>Honey</th>\n",
       "      <th>Spicy</th>\n",
       "      <th>Winey</th>\n",
       "      <th>Nutty</th>\n",
       "      <th>Malty</th>\n",
       "      <th>Fruity</th>\n",
       "      <th>Floral</th>\n",
       "      <th>Postcode</th>\n",
       "      <th>Latitude</th>\n",
       "      <th>Longitude</th>\n",
       "    </tr>\n",
       "    <tr>\n",
       "      <th>RowID</th>\n",
       "      <th></th>\n",
       "      <th></th>\n",
       "      <th></th>\n",
       "      <th></th>\n",
       "      <th></th>\n",
       "      <th></th>\n",
       "      <th></th>\n",
       "      <th></th>\n",
       "      <th></th>\n",
       "      <th></th>\n",
       "      <th></th>\n",
       "      <th></th>\n",
       "      <th></th>\n",
       "      <th></th>\n",
       "      <th></th>\n",
       "      <th></th>\n",
       "    </tr>\n",
       "  </thead>\n",
       "  <tbody>\n",
       "    <tr>\n",
       "      <th>1</th>\n",
       "      <td>Aberfeldy</td>\n",
       "      <td>2</td>\n",
       "      <td>2</td>\n",
       "      <td>2</td>\n",
       "      <td>0</td>\n",
       "      <td>0</td>\n",
       "      <td>2</td>\n",
       "      <td>1</td>\n",
       "      <td>2</td>\n",
       "      <td>2</td>\n",
       "      <td>2</td>\n",
       "      <td>2</td>\n",
       "      <td>2</td>\n",
       "      <td>\\tPH15 2EB</td>\n",
       "      <td>286580</td>\n",
       "      <td>749680</td>\n",
       "    </tr>\n",
       "    <tr>\n",
       "      <th>2</th>\n",
       "      <td>Aberlour</td>\n",
       "      <td>3</td>\n",
       "      <td>3</td>\n",
       "      <td>1</td>\n",
       "      <td>0</td>\n",
       "      <td>0</td>\n",
       "      <td>4</td>\n",
       "      <td>3</td>\n",
       "      <td>2</td>\n",
       "      <td>2</td>\n",
       "      <td>3</td>\n",
       "      <td>3</td>\n",
       "      <td>2</td>\n",
       "      <td>\\tAB38 9PJ</td>\n",
       "      <td>326340</td>\n",
       "      <td>842570</td>\n",
       "    </tr>\n",
       "    <tr>\n",
       "      <th>3</th>\n",
       "      <td>AnCnoc</td>\n",
       "      <td>1</td>\n",
       "      <td>3</td>\n",
       "      <td>2</td>\n",
       "      <td>0</td>\n",
       "      <td>0</td>\n",
       "      <td>2</td>\n",
       "      <td>0</td>\n",
       "      <td>0</td>\n",
       "      <td>2</td>\n",
       "      <td>2</td>\n",
       "      <td>3</td>\n",
       "      <td>2</td>\n",
       "      <td>\\tAB5 5LI</td>\n",
       "      <td>352960</td>\n",
       "      <td>839320</td>\n",
       "    </tr>\n",
       "    <tr>\n",
       "      <th>4</th>\n",
       "      <td>Ardbeg</td>\n",
       "      <td>4</td>\n",
       "      <td>1</td>\n",
       "      <td>4</td>\n",
       "      <td>4</td>\n",
       "      <td>0</td>\n",
       "      <td>0</td>\n",
       "      <td>2</td>\n",
       "      <td>0</td>\n",
       "      <td>1</td>\n",
       "      <td>2</td>\n",
       "      <td>1</td>\n",
       "      <td>0</td>\n",
       "      <td>\\tPA42 7EB</td>\n",
       "      <td>141560</td>\n",
       "      <td>646220</td>\n",
       "    </tr>\n",
       "    <tr>\n",
       "      <th>5</th>\n",
       "      <td>Ardmore</td>\n",
       "      <td>2</td>\n",
       "      <td>2</td>\n",
       "      <td>2</td>\n",
       "      <td>0</td>\n",
       "      <td>0</td>\n",
       "      <td>1</td>\n",
       "      <td>1</td>\n",
       "      <td>1</td>\n",
       "      <td>2</td>\n",
       "      <td>3</td>\n",
       "      <td>1</td>\n",
       "      <td>1</td>\n",
       "      <td>\\tAB54 4NH</td>\n",
       "      <td>355350</td>\n",
       "      <td>829140</td>\n",
       "    </tr>\n",
       "  </tbody>\n",
       "</table>\n",
       "</div>"
      ],
      "text/plain": [
       "      Distillery  Body  Sweetness  Smoky  Medicinal  Tobacco  Honey  Spicy  \\\n",
       "RowID                                                                        \n",
       "1      Aberfeldy     2          2      2          0        0      2      1   \n",
       "2       Aberlour     3          3      1          0        0      4      3   \n",
       "3         AnCnoc     1          3      2          0        0      2      0   \n",
       "4         Ardbeg     4          1      4          4        0      0      2   \n",
       "5        Ardmore     2          2      2          0        0      1      1   \n",
       "\n",
       "       Winey  Nutty  Malty  Fruity  Floral    Postcode  Latitude  Longitude  \n",
       "RowID                                                                        \n",
       "1          2      2      2       2       2  \\tPH15 2EB    286580     749680  \n",
       "2          2      2      3       3       2  \\tAB38 9PJ    326340     842570  \n",
       "3          0      2      2       3       2   \\tAB5 5LI    352960     839320  \n",
       "4          0      1      2       1       0  \\tPA42 7EB    141560     646220  \n",
       "5          1      2      3       1       1  \\tAB54 4NH    355350     829140  "
      ]
     },
     "execution_count": 2,
     "metadata": {},
     "output_type": "execute_result"
    }
   ],
   "source": [
    "df= pd.read_csv('data/whisky.csv', index_col='RowID')\n",
    "df.head()"
   ]
  },
  {
   "cell_type": "code",
   "execution_count": 3,
   "metadata": {},
   "outputs": [
    {
     "name": "stdout",
     "output_type": "stream",
     "text": [
      "<class 'pandas.core.frame.DataFrame'>\n",
      "Int64Index: 86 entries, 1 to 86\n",
      "Data columns (total 16 columns):\n",
      "Distillery    86 non-null object\n",
      "Body          86 non-null int64\n",
      "Sweetness     86 non-null int64\n",
      "Smoky         86 non-null int64\n",
      "Medicinal     86 non-null int64\n",
      "Tobacco       86 non-null int64\n",
      "Honey         86 non-null int64\n",
      "Spicy         86 non-null int64\n",
      "Winey         86 non-null int64\n",
      "Nutty         86 non-null int64\n",
      "Malty         86 non-null int64\n",
      "Fruity        86 non-null int64\n",
      "Floral        86 non-null int64\n",
      "Postcode      86 non-null object\n",
      "Latitude      86 non-null int64\n",
      "Longitude     86 non-null int64\n",
      "dtypes: int64(14), object(2)\n",
      "memory usage: 11.4+ KB\n"
     ]
    }
   ],
   "source": [
    "df.info()"
   ]
  },
  {
   "cell_type": "markdown",
   "metadata": {},
   "source": [
    "There's a total of 86 whisky distillers in the dataset. None of them have any missing values.\n",
    "\n",
    "Only the Distillery and Postcode columns are non-numeric, and the rest are integer data types."
   ]
  },
  {
   "cell_type": "code",
   "execution_count": 4,
   "metadata": {},
   "outputs": [
    {
     "data": {
      "text/html": [
       "<div>\n",
       "<style scoped>\n",
       "    .dataframe tbody tr th:only-of-type {\n",
       "        vertical-align: middle;\n",
       "    }\n",
       "\n",
       "    .dataframe tbody tr th {\n",
       "        vertical-align: top;\n",
       "    }\n",
       "\n",
       "    .dataframe thead th {\n",
       "        text-align: right;\n",
       "    }\n",
       "</style>\n",
       "<table border=\"1\" class=\"dataframe\">\n",
       "  <thead>\n",
       "    <tr style=\"text-align: right;\">\n",
       "      <th></th>\n",
       "      <th>Body</th>\n",
       "      <th>Sweetness</th>\n",
       "      <th>Smoky</th>\n",
       "      <th>Medicinal</th>\n",
       "      <th>Tobacco</th>\n",
       "      <th>Honey</th>\n",
       "      <th>Spicy</th>\n",
       "      <th>Winey</th>\n",
       "      <th>Nutty</th>\n",
       "      <th>Malty</th>\n",
       "      <th>Fruity</th>\n",
       "      <th>Floral</th>\n",
       "      <th>Latitude</th>\n",
       "      <th>Longitude</th>\n",
       "    </tr>\n",
       "  </thead>\n",
       "  <tbody>\n",
       "    <tr>\n",
       "      <th>count</th>\n",
       "      <td>86.000000</td>\n",
       "      <td>86.000000</td>\n",
       "      <td>86.000000</td>\n",
       "      <td>86.000000</td>\n",
       "      <td>86.000000</td>\n",
       "      <td>86.000000</td>\n",
       "      <td>86.000000</td>\n",
       "      <td>86.000000</td>\n",
       "      <td>86.000000</td>\n",
       "      <td>86.000000</td>\n",
       "      <td>86.000000</td>\n",
       "      <td>86.000000</td>\n",
       "      <td>86.000000</td>\n",
       "      <td>8.600000e+01</td>\n",
       "    </tr>\n",
       "    <tr>\n",
       "      <th>mean</th>\n",
       "      <td>2.069767</td>\n",
       "      <td>2.290698</td>\n",
       "      <td>1.534884</td>\n",
       "      <td>0.546512</td>\n",
       "      <td>0.116279</td>\n",
       "      <td>1.244186</td>\n",
       "      <td>1.383721</td>\n",
       "      <td>0.976744</td>\n",
       "      <td>1.465116</td>\n",
       "      <td>1.802326</td>\n",
       "      <td>1.802326</td>\n",
       "      <td>1.697674</td>\n",
       "      <td>287247.162791</td>\n",
       "      <td>8.026597e+05</td>\n",
       "    </tr>\n",
       "    <tr>\n",
       "      <th>std</th>\n",
       "      <td>0.930410</td>\n",
       "      <td>0.717287</td>\n",
       "      <td>0.863613</td>\n",
       "      <td>0.990032</td>\n",
       "      <td>0.322439</td>\n",
       "      <td>0.853175</td>\n",
       "      <td>0.784686</td>\n",
       "      <td>0.932760</td>\n",
       "      <td>0.821730</td>\n",
       "      <td>0.629094</td>\n",
       "      <td>0.779438</td>\n",
       "      <td>0.855017</td>\n",
       "      <td>67889.046814</td>\n",
       "      <td>8.802422e+04</td>\n",
       "    </tr>\n",
       "    <tr>\n",
       "      <th>min</th>\n",
       "      <td>0.000000</td>\n",
       "      <td>1.000000</td>\n",
       "      <td>0.000000</td>\n",
       "      <td>0.000000</td>\n",
       "      <td>0.000000</td>\n",
       "      <td>0.000000</td>\n",
       "      <td>0.000000</td>\n",
       "      <td>0.000000</td>\n",
       "      <td>0.000000</td>\n",
       "      <td>0.000000</td>\n",
       "      <td>0.000000</td>\n",
       "      <td>0.000000</td>\n",
       "      <td>126680.000000</td>\n",
       "      <td>5.542600e+05</td>\n",
       "    </tr>\n",
       "    <tr>\n",
       "      <th>25%</th>\n",
       "      <td>2.000000</td>\n",
       "      <td>2.000000</td>\n",
       "      <td>1.000000</td>\n",
       "      <td>0.000000</td>\n",
       "      <td>0.000000</td>\n",
       "      <td>1.000000</td>\n",
       "      <td>1.000000</td>\n",
       "      <td>0.000000</td>\n",
       "      <td>1.000000</td>\n",
       "      <td>1.000000</td>\n",
       "      <td>1.000000</td>\n",
       "      <td>1.000000</td>\n",
       "      <td>265672.500000</td>\n",
       "      <td>7.556975e+05</td>\n",
       "    </tr>\n",
       "    <tr>\n",
       "      <th>50%</th>\n",
       "      <td>2.000000</td>\n",
       "      <td>2.000000</td>\n",
       "      <td>1.000000</td>\n",
       "      <td>0.000000</td>\n",
       "      <td>0.000000</td>\n",
       "      <td>1.000000</td>\n",
       "      <td>1.000000</td>\n",
       "      <td>1.000000</td>\n",
       "      <td>2.000000</td>\n",
       "      <td>2.000000</td>\n",
       "      <td>2.000000</td>\n",
       "      <td>2.000000</td>\n",
       "      <td>319515.000000</td>\n",
       "      <td>8.398850e+05</td>\n",
       "    </tr>\n",
       "    <tr>\n",
       "      <th>75%</th>\n",
       "      <td>2.000000</td>\n",
       "      <td>3.000000</td>\n",
       "      <td>2.000000</td>\n",
       "      <td>1.000000</td>\n",
       "      <td>0.000000</td>\n",
       "      <td>2.000000</td>\n",
       "      <td>2.000000</td>\n",
       "      <td>1.000000</td>\n",
       "      <td>2.000000</td>\n",
       "      <td>2.000000</td>\n",
       "      <td>2.000000</td>\n",
       "      <td>2.000000</td>\n",
       "      <td>328630.000000</td>\n",
       "      <td>8.507700e+05</td>\n",
       "    </tr>\n",
       "    <tr>\n",
       "      <th>max</th>\n",
       "      <td>4.000000</td>\n",
       "      <td>4.000000</td>\n",
       "      <td>4.000000</td>\n",
       "      <td>4.000000</td>\n",
       "      <td>1.000000</td>\n",
       "      <td>4.000000</td>\n",
       "      <td>3.000000</td>\n",
       "      <td>4.000000</td>\n",
       "      <td>4.000000</td>\n",
       "      <td>3.000000</td>\n",
       "      <td>3.000000</td>\n",
       "      <td>4.000000</td>\n",
       "      <td>381020.000000</td>\n",
       "      <td>1.009260e+06</td>\n",
       "    </tr>\n",
       "  </tbody>\n",
       "</table>\n",
       "</div>"
      ],
      "text/plain": [
       "            Body  Sweetness      Smoky  Medicinal    Tobacco      Honey  \\\n",
       "count  86.000000  86.000000  86.000000  86.000000  86.000000  86.000000   \n",
       "mean    2.069767   2.290698   1.534884   0.546512   0.116279   1.244186   \n",
       "std     0.930410   0.717287   0.863613   0.990032   0.322439   0.853175   \n",
       "min     0.000000   1.000000   0.000000   0.000000   0.000000   0.000000   \n",
       "25%     2.000000   2.000000   1.000000   0.000000   0.000000   1.000000   \n",
       "50%     2.000000   2.000000   1.000000   0.000000   0.000000   1.000000   \n",
       "75%     2.000000   3.000000   2.000000   1.000000   0.000000   2.000000   \n",
       "max     4.000000   4.000000   4.000000   4.000000   1.000000   4.000000   \n",
       "\n",
       "           Spicy      Winey      Nutty      Malty     Fruity     Floral  \\\n",
       "count  86.000000  86.000000  86.000000  86.000000  86.000000  86.000000   \n",
       "mean    1.383721   0.976744   1.465116   1.802326   1.802326   1.697674   \n",
       "std     0.784686   0.932760   0.821730   0.629094   0.779438   0.855017   \n",
       "min     0.000000   0.000000   0.000000   0.000000   0.000000   0.000000   \n",
       "25%     1.000000   0.000000   1.000000   1.000000   1.000000   1.000000   \n",
       "50%     1.000000   1.000000   2.000000   2.000000   2.000000   2.000000   \n",
       "75%     2.000000   1.000000   2.000000   2.000000   2.000000   2.000000   \n",
       "max     3.000000   4.000000   4.000000   3.000000   3.000000   4.000000   \n",
       "\n",
       "            Latitude     Longitude  \n",
       "count      86.000000  8.600000e+01  \n",
       "mean   287247.162791  8.026597e+05  \n",
       "std     67889.046814  8.802422e+04  \n",
       "min    126680.000000  5.542600e+05  \n",
       "25%    265672.500000  7.556975e+05  \n",
       "50%    319515.000000  8.398850e+05  \n",
       "75%    328630.000000  8.507700e+05  \n",
       "max    381020.000000  1.009260e+06  "
      ]
     },
     "execution_count": 4,
     "metadata": {},
     "output_type": "execute_result"
    }
   ],
   "source": [
    "df.describe()"
   ]
  },
  {
   "cell_type": "markdown",
   "metadata": {},
   "source": [
    "All the numerical columns (except for geographical mapping columns) seems to be categorical as they are integers which range from 1 to 4. This means that we are dealing with categorical data for the most part here."
   ]
  },
  {
   "cell_type": "code",
   "execution_count": 5,
   "metadata": {},
   "outputs": [
    {
     "data": {
      "image/png": "[encoded data removed]",
      "text/plain": [
       "<Figure size 720x720 with 16 Axes>"
      ]
     },
     "metadata": {
      "needs_background": "light"
     },
     "output_type": "display_data"
    }
   ],
   "source": [
    "df.hist(figsize=(10,10))\n",
    "plt.show()"
   ]
  },
  {
   "cell_type": "markdown",
   "metadata": {},
   "source": [
    "Looking at the data , it seems like it is mostly made up of categorical features. The only continous features are geo location features."
   ]
  },
  {
   "cell_type": "markdown",
   "metadata": {},
   "source": [
    "## Postcodes and Distillery are text columns\n",
    "It would only make sense for me to drop them as they are non numeric and not categorical but text which does not influence the output."
   ]
  },
  {
   "cell_type": "code",
   "execution_count": 6,
   "metadata": {},
   "outputs": [],
   "source": [
    "df= df.drop(['Postcode', 'Distillery', 'Longitude', 'Latitude', 'Body'], axis=1)"
   ]
  },
  {
   "cell_type": "code",
   "execution_count": 7,
   "metadata": {},
   "outputs": [
    {
     "data": {
      "text/html": [
       "<div>\n",
       "<style scoped>\n",
       "    .dataframe tbody tr th:only-of-type {\n",
       "        vertical-align: middle;\n",
       "    }\n",
       "\n",
       "    .dataframe tbody tr th {\n",
       "        vertical-align: top;\n",
       "    }\n",
       "\n",
       "    .dataframe thead th {\n",
       "        text-align: right;\n",
       "    }\n",
       "</style>\n",
       "<table border=\"1\" class=\"dataframe\">\n",
       "  <thead>\n",
       "    <tr style=\"text-align: right;\">\n",
       "      <th></th>\n",
       "      <th>Sweetness</th>\n",
       "      <th>Smoky</th>\n",
       "      <th>Medicinal</th>\n",
       "      <th>Tobacco</th>\n",
       "      <th>Honey</th>\n",
       "      <th>Spicy</th>\n",
       "      <th>Winey</th>\n",
       "      <th>Nutty</th>\n",
       "      <th>Malty</th>\n",
       "      <th>Fruity</th>\n",
       "      <th>Floral</th>\n",
       "    </tr>\n",
       "    <tr>\n",
       "      <th>RowID</th>\n",
       "      <th></th>\n",
       "      <th></th>\n",
       "      <th></th>\n",
       "      <th></th>\n",
       "      <th></th>\n",
       "      <th></th>\n",
       "      <th></th>\n",
       "      <th></th>\n",
       "      <th></th>\n",
       "      <th></th>\n",
       "      <th></th>\n",
       "    </tr>\n",
       "  </thead>\n",
       "  <tbody>\n",
       "    <tr>\n",
       "      <th>1</th>\n",
       "      <td>2</td>\n",
       "      <td>2</td>\n",
       "      <td>0</td>\n",
       "      <td>0</td>\n",
       "      <td>2</td>\n",
       "      <td>1</td>\n",
       "      <td>2</td>\n",
       "      <td>2</td>\n",
       "      <td>2</td>\n",
       "      <td>2</td>\n",
       "      <td>2</td>\n",
       "    </tr>\n",
       "    <tr>\n",
       "      <th>2</th>\n",
       "      <td>3</td>\n",
       "      <td>1</td>\n",
       "      <td>0</td>\n",
       "      <td>0</td>\n",
       "      <td>4</td>\n",
       "      <td>3</td>\n",
       "      <td>2</td>\n",
       "      <td>2</td>\n",
       "      <td>3</td>\n",
       "      <td>3</td>\n",
       "      <td>2</td>\n",
       "    </tr>\n",
       "    <tr>\n",
       "      <th>3</th>\n",
       "      <td>3</td>\n",
       "      <td>2</td>\n",
       "      <td>0</td>\n",
       "      <td>0</td>\n",
       "      <td>2</td>\n",
       "      <td>0</td>\n",
       "      <td>0</td>\n",
       "      <td>2</td>\n",
       "      <td>2</td>\n",
       "      <td>3</td>\n",
       "      <td>2</td>\n",
       "    </tr>\n",
       "    <tr>\n",
       "      <th>4</th>\n",
       "      <td>1</td>\n",
       "      <td>4</td>\n",
       "      <td>4</td>\n",
       "      <td>0</td>\n",
       "      <td>0</td>\n",
       "      <td>2</td>\n",
       "      <td>0</td>\n",
       "      <td>1</td>\n",
       "      <td>2</td>\n",
       "      <td>1</td>\n",
       "      <td>0</td>\n",
       "    </tr>\n",
       "    <tr>\n",
       "      <th>5</th>\n",
       "      <td>2</td>\n",
       "      <td>2</td>\n",
       "      <td>0</td>\n",
       "      <td>0</td>\n",
       "      <td>1</td>\n",
       "      <td>1</td>\n",
       "      <td>1</td>\n",
       "      <td>2</td>\n",
       "      <td>3</td>\n",
       "      <td>1</td>\n",
       "      <td>1</td>\n",
       "    </tr>\n",
       "  </tbody>\n",
       "</table>\n",
       "</div>"
      ],
      "text/plain": [
       "       Sweetness  Smoky  Medicinal  Tobacco  Honey  Spicy  Winey  Nutty  \\\n",
       "RowID                                                                     \n",
       "1              2      2          0        0      2      1      2      2   \n",
       "2              3      1          0        0      4      3      2      2   \n",
       "3              3      2          0        0      2      0      0      2   \n",
       "4              1      4          4        0      0      2      0      1   \n",
       "5              2      2          0        0      1      1      1      2   \n",
       "\n",
       "       Malty  Fruity  Floral  \n",
       "RowID                         \n",
       "1          2       2       2  \n",
       "2          3       3       2  \n",
       "3          2       3       2  \n",
       "4          2       1       0  \n",
       "5          3       1       1  "
      ]
     },
     "execution_count": 7,
     "metadata": {},
     "output_type": "execute_result"
    }
   ],
   "source": [
    "df.head()"
   ]
  },
  {
   "cell_type": "markdown",
   "metadata": {},
   "source": [
    "## Dimensionality reduction\n",
    "Since this dataset has a lot of features, visualizing the clusters is hard. So glady, the dataset can be reduced down to only the important components without losing much quality on the data. So I reduce it down to 2 dimension."
   ]
  },
  {
   "cell_type": "code",
   "execution_count": 8,
   "metadata": {},
   "outputs": [],
   "source": [
    "from sklearn.decomposition import KernelPCA\n",
    "np.random.seed(42)\n",
    "rbf_pca= KernelPCA(n_components=2, kernel='rbf')\n",
    "X_reduced= rbf_pca.fit_transform(df)\n"
   ]
  },
  {
   "cell_type": "markdown",
   "metadata": {},
   "source": []
  },
  {
   "cell_type": "code",
   "execution_count": 9,
   "metadata": {},
   "outputs": [
    {
     "data": {
      "image/png": "[encoded data removed]",
      "text/plain": [
       "<Figure size 432x288 with 1 Axes>"
      ]
     },
     "metadata": {
      "needs_background": "light"
     },
     "output_type": "display_data"
    }
   ],
   "source": [
    "#feature a and b\n",
    "x=X_reduced[:,0]\n",
    "y=X_reduced[:,1]\n",
    "\n",
    "plt.scatter(x, y)\n",
    "plt.title('Reduced features')\n",
    "plt.show()"
   ]
  },
  {
   "cell_type": "markdown",
   "metadata": {},
   "source": [
    "# Clustering\n",
    "I will then apply k-means clustering to group the whisky distillers into their respective clusters.\n",
    "But firstly I need to figure out how many clusters are best to use. To do that, I will use the elbow method which proves to be an easy to interpret graph."
   ]
  },
  {
   "cell_type": "code",
   "execution_count": 10,
   "metadata": {},
   "outputs": [
    {
     "data": {
      "image/png": "[encoded data removed]",
      "text/plain": [
       "<Figure size 432x288 with 1 Axes>"
      ]
     },
     "metadata": {
      "needs_background": "light"
     },
     "output_type": "display_data"
    }
   ],
   "source": [
    "from sklearn.cluster import KMeans\n",
    "from sklearn.metrics import silhouette_score\n",
    "\n",
    "\n",
    "sil_scores=[]\n",
    "costs=[]\n",
    "for clusters in range(2,10):\n",
    "    km= KMeans(n_clusters=clusters, random_state=42)\n",
    "    km.fit(X_reduced)\n",
    "    \n",
    "    #loss\n",
    "    costs.append(km.inertia_)\n",
    "    #predict cluster\n",
    "    labels= km.predict(X_reduced)\n",
    "    \n",
    "    #silhouette score\n",
    "    sil_score= silhouette_score(X_reduced, labels)   \n",
    "    sil_scores.append(sil_score)\n",
    "    \n",
    "plt.plot(range(2,10), costs)\n",
    "plt.title('Elbow')\n",
    "plt.xlabel('# of clusters')\n",
    "plt.ylabel('Cost')\n",
    "plt.show()\n",
    "    "
   ]
  },
  {
   "cell_type": "markdown",
   "metadata": {},
   "source": [
    "From the elbow plot seen above, it is clear that 3 would be a great number of cluster to use. 5 also looks interesting, so I will perform a Silhouette test."
   ]
  },
  {
   "cell_type": "code",
   "execution_count": 11,
   "metadata": {},
   "outputs": [
    {
     "data": {
      "image/png": "[encoded data removed]",
      "text/plain": [
       "<Figure size 432x288 with 1 Axes>"
      ]
     },
     "metadata": {
      "needs_background": "light"
     },
     "output_type": "display_data"
    }
   ],
   "source": [
    "sns.barplot(x=list(range(2,10)), y=sil_scores)\n",
    "plt.title('Score for number cluster')\n",
    "plt.xlabel('Number of clusters')\n",
    "plt.ylabel('Silhouette score')\n",
    "plt.show()"
   ]
  },
  {
   "cell_type": "markdown",
   "metadata": {},
   "source": [
    "Now it is evident that 3 clusters are more likely to give us a better results as we see 3 clusters rank the highest."
   ]
  },
  {
   "cell_type": "markdown",
   "metadata": {},
   "source": [
    "## Final Model\n",
    "Now that I have figured out that 3 clusters would be best for the data, I use it to cluster the whisky distillers at last."
   ]
  },
  {
   "cell_type": "code",
   "execution_count": 12,
   "metadata": {},
   "outputs": [],
   "source": [
    "km= KMeans(n_clusters=3, random_state=42)\n",
    "y_preds= km.fit_predict(X_reduced)"
   ]
  },
  {
   "cell_type": "code",
   "execution_count": 26,
   "metadata": {},
   "outputs": [
    {
     "data": {
      "image/png": "[encoded data removed]",
      "text/plain": [
       "<Figure size 432x288 with 1 Axes>"
      ]
     },
     "metadata": {
      "needs_background": "light"
     },
     "output_type": "display_data"
    }
   ],
   "source": [
    "\n",
    "plt.scatter(x, y, c=y_preds, cmap='viridis' )\n",
    "plt.scatter(km.cluster_centers_[:, 0], km.cluster_centers_[:, 1], s=300, c='red', marker='*')\n",
    "#plt.legend(loc='upper left')\n",
    "plt.title('Whisky Clusters')\n",
    "plt.show()"
   ]
  },
  {
   "cell_type": "markdown",
   "metadata": {},
   "source": [
    "Looking at the scatterplot above, it is easy to see the various clusters whisky distillers are separable by their tasting profiles."
   ]
  },
  {
   "cell_type": "code",
   "execution_count": 18,
   "metadata": {},
   "outputs": [
    {
     "data": {
      "text/plain": [
       "<matplotlib.axes._subplots.AxesSubplot at 0x7fd438d8d5c0>"
      ]
     },
     "execution_count": 18,
     "metadata": {},
     "output_type": "execute_result"
    },
    {
     "data": {
      "image/png": "[encoded data removed]",
      "text/plain": [
       "<Figure size 432x288 with 1 Axes>"
      ]
     },
     "metadata": {
      "needs_background": "light"
     },
     "output_type": "display_data"
    }
   ],
   "source": [
    "df['cluster']= y_preds\n",
    "\n",
    "clusters= df.cluster.value_counts()\n",
    "sns.barplot(x=clusters.index, y=clusters)"
   ]
  },
  {
   "cell_type": "markdown",
   "metadata": {},
   "source": [
    "Most distillers belong to the cluster 1 followed by 2 and 0."
   ]
  },
  {
   "cell_type": "markdown",
   "metadata": {},
   "source": [
    "# Conclusion\n",
    "In this project, I successfully used K means to cluster whisky distillers by their tasting profiles. This model proved to be a great unsupervised machine learning tool."
   ]
  },
  {
   "cell_type": "code",
   "execution_count": null,
   "metadata": {},
   "outputs": [],
   "source": []
  }
 ],
 "metadata": {
  "kernelspec": {
   "display_name": "Python 3",
   "language": "python",
   "name": "python3"
  },
  "language_info": {
   "codemirror_mode": {
    "name": "ipython",
    "version": 3
   },
   "file_extension": ".py",
   "mimetype": "text/x-python",
   "name": "python",
   "nbconvert_exporter": "python",
   "pygments_lexer": "ipython3",
   "version": "3.7.3"
  }
 },
 "nbformat": 4,
 "nbformat_minor": 2
}
